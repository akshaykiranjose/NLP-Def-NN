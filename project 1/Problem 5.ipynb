{
 "cells": [
  {
   "cell_type": "code",
   "execution_count": 1,
   "metadata": {},
   "outputs": [],
   "source": [
    "import numpy as np\n",
    "from scipy.optimize import linprog\n",
    "import imageio"
   ]
  },
  {
   "cell_type": "markdown",
   "metadata": {},
   "source": [
    "### Loading the data\n",
    "$\\text{All the data needed were saved in the same folder as the code, running the code elsewhere will prompt errors}$"
   ]
  },
  {
   "cell_type": "code",
   "execution_count": 2,
   "metadata": {},
   "outputs": [],
   "source": [
    "c_red_path = \"C_red.npy\" #path to the C.npy file (red)\n",
    "y_red_path = \"y_red.npy\" #path to the y.npy file (red)\n",
    "A_inv_red_path = \"A_inv_red.npy\" #path to the A_inv.py file (red)\n",
    "\n",
    "c_green_path = \"C_green.npy\" #path to the C.npy file (green)\n",
    "y_green_path = \"y_green.npy\" #path to the y.npy file (green)\n",
    "A_inv_green_path = \"A_inv_green.npy\" #path to the A_inv.py file (green)\n",
    "\n",
    "c_blue_path = \"C_blue.npy\" #path to the C.npy file (blue)\n",
    "y_blue_path = \"y_blue.npy\" #path to the y.npy file (blue)\n",
    "A_inv_blue_path = \"A_inv_blue.npy\" #path to the A_inv.py file (blue)"
   ]
  },
  {
   "cell_type": "markdown",
   "metadata": {},
   "source": [
    "$\\text{Code that does optimization}$"
   ]
  },
  {
   "cell_type": "code",
   "execution_count": 3,
   "metadata": {},
   "outputs": [],
   "source": [
    "def solve(A, b):\n",
    "  numRows = A.shape[0] \n",
    "  numCols = A.shape[1]\n",
    "\n",
    "  vF = np.ones([2*numCols, 1])\n",
    "\n",
    "  mAeq = np.concatenate((A, -A), axis=1)\n",
    "  vBeq = b\n",
    "\n",
    "  vLowerBound = np.full([2 * numCols, 1], 0)\n",
    "  vUpperBound = np.full([2 * numCols, 1], np.inf)\n",
    "  Bounds = np.concatenate((vLowerBound, vUpperBound), axis=1)\n",
    "\n",
    "  result = linprog(vF, A_eq=mAeq, b_eq=vBeq, bounds=Bounds)\n",
    "  vUV = result.x\n",
    "  s = vUV[0:numCols] - vUV[numCols:];\n",
    "\n",
    "  return s"
   ]
  },
  {
   "cell_type": "code",
   "execution_count": 4,
   "metadata": {},
   "outputs": [
    {
     "name": "stdout",
     "output_type": "stream",
     "text": [
      "Number of Rows of A = 4000\n",
      "Number of Columns of A = 10000\n",
      "Red Done\n",
      "[ 1.23514294e+04 -1.50959824e+03 -9.21463070e+02 ...  1.55674691e-08\n",
      "  2.64921387e-07 -5.94718145e-07]\n",
      "Number of Rows of A = 4000\n",
      "Number of Columns of A = 10000\n",
      "Green Done\n",
      "[ 1.60191626e+04 -9.75368007e+02 -7.29196661e+02 ... -1.55523861e-08\n",
      "  7.28520563e-09 -9.90744622e-10]\n",
      "Number of Rows of A = 4000\n",
      "Number of Columns of A = 10000\n",
      "Blue Done\n",
      "[ 1.15107467e+04 -2.45305137e+03 -1.60594994e+03 ...  2.67544730e-06\n",
      "  2.26961136e-08  6.44678136e-08]\n"
     ]
    }
   ],
   "source": [
    "A_red = np.load(c_red_path);\n",
    "b_red = np.load(y_red_path);\n",
    "s_red = solve(A_red, b_red);\n",
    "np.save(\"s_red\", s_red); #saves the sparse vector \n",
    "\n",
    "\n",
    "\n",
    "A_green = np.load(c_green_path);\n",
    "b_green = np.load(y_green_path);\n",
    "s_green = solve(A_green, b_green);\n",
    "np.save(\"s_green\", s_green); #saves the sparse vector \n",
    "\n",
    "\n",
    "\n",
    "A_blue = np.load(c_blue_path);\n",
    "b_blue = np.load(y_blue_path);\n",
    "s_blue = solve(A_blue, b_blue);\n",
    "np.save(\"s_blue\", s_blue); #saves the sparse vector \n"
   ]
  },
  {
   "cell_type": "markdown",
   "metadata": {},
   "source": [
    "$\\text{Getting the vector} x \\text{from the vector } s \\text{ via } x=As $"
   ]
  },
  {
   "cell_type": "code",
   "execution_count": 5,
   "metadata": {},
   "outputs": [
    {
     "name": "stdout",
     "output_type": "stream",
     "text": [
      "Red Done\n",
      "[104.16599876 145.33139418 146.654025   ...  -1.81099104   7.9131279\n",
      "   0.87244832]\n",
      "Green Done\n",
      "[152.81575841 211.8923535  209.17893073 ...   5.21202661   1.55087874\n",
      "   3.50817434]\n",
      "Blue Done\n",
      "[ 82.34577925 115.72368248 110.08018399 ...   7.55674341   1.74709632\n",
      "   3.86572275]\n"
     ]
    }
   ],
   "source": [
    "A_inv_red = np.load(A_inv_red_path)\n",
    "A_inv_red = A_inv_red.astype('float64')\n",
    "A_red = np.linalg.inv(A_inv_red) \n",
    "x_red = A_red.dot(s_red)\n",
    "\n",
    "print(x_red)\n",
    "\n",
    "A_inv_green = np.load(A_inv_green_path)\n",
    "A_inv_green = A_inv_green.astype('float64')\n",
    "A_green = np.linalg.inv(A_inv_green) \n",
    "x_green = A_green.dot(s_green)\n",
    "\n",
    "print(x_green)\n",
    "\n",
    "\n",
    "A_inv_blue = np.load(A_inv_blue_path)\n",
    "A_inv_blue = A_inv_blue.astype('float64')\n",
    "A_blue = np.linalg.inv(A_inv_blue) \n",
    "x_blue = A_blue.dot(s_blue)\n",
    "\n",
    "print(x_blue)\n"
   ]
  },
  {
   "cell_type": "markdown",
   "metadata": {},
   "source": [
    "$\\text{Getting the Images back from the vector } x$"
   ]
  },
  {
   "cell_type": "code",
   "execution_count": 6,
   "metadata": {},
   "outputs": [
    {
     "name": "stderr",
     "output_type": "stream",
     "text": [
      "Lossy conversion from float64 to uint8. Range [-112.9971598669679, 369.15434693666083]. Convert image to uint8 prior to saving to suppress this warning.\n"
     ]
    }
   ],
   "source": [
    "\n",
    "y_red = x_red.reshape((100,100), order='F')\n",
    "y_green = x_green.reshape((100,100), order='F')\n",
    "y_blue = x_blue.reshape((100,100), order='F')\n",
    "\n",
    "y = np.zeros((100,100,3))\n",
    "y[:,:,0] = y_red\n",
    "y[:,:,1] = y_green\n",
    "y[:,:,2] = y_blue\n",
    "\n",
    "imageio.imwrite('goose_color_reconstructed.jpg', y)"
   ]
  },
  {
   "cell_type": "code",
   "execution_count": null,
   "metadata": {},
   "outputs": [],
   "source": []
  }
 ],
 "metadata": {
  "kernelspec": {
   "display_name": "Python 3",
   "language": "python",
   "name": "python3"
  },
  "language_info": {
   "codemirror_mode": {
    "name": "ipython",
    "version": 3
   },
   "file_extension": ".py",
   "mimetype": "text/x-python",
   "name": "python",
   "nbconvert_exporter": "python",
   "pygments_lexer": "ipython3",
   "version": "3.8.3"
  }
 },
 "nbformat": 4,
 "nbformat_minor": 5
}
